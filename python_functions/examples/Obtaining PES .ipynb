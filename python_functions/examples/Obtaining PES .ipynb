{
 "cells": [
  {
   "cell_type": "markdown",
   "metadata": {},
   "source": [
    "# Example : Obtaining accurate PES and ro-vibrational wavefunctions using experimental datasets on transition frequencies as reference\n"
   ]
  },
  {
   "cell_type": "markdown",
   "metadata": {},
   "source": [
    "## Sample molecule N<sub>2</sub>"
   ]
  },
  {
   "cell_type": "code",
   "execution_count": 6,
   "metadata": {},
   "outputs": [],
   "source": [
    "import sys\n",
    "sys.path.insert(1, './../')\n",
    "\n",
    "# import module here\n",
    "from dep import diatomicSE\n",
    "from dep import transition\n",
    "from dep import PES_functions\n",
    "\n",
    "\n",
    "# import python modules\n",
    "import scipy.optimize as opt\n",
    "import math\n",
    "import numpy as np\n",
    "\n",
    "###### for plotting #########################\n",
    "import matplotlib.pyplot as plt\n",
    "\n",
    "plt.rcParams['lines.linewidth'] = 2 ;\n",
    "plt.rc('axes', linewidth=2) ;\n",
    "plt.rcParams.update({'font.size': 18}) ;\n",
    "plt.rcParams[\"font.family\"] = \"Arial\";\n"
   ]
  },
  {
   "cell_type": "code",
   "execution_count": 2,
   "metadata": {},
   "outputs": [
    {
     "name": "stdout",
     "output_type": "stream",
     "text": [
      "('modification_morse_potential', <function modification_morse_potential at 0x148896ebcc80>)\n",
      "('morse_potential', <function morse_potential at 0x148896ebcb70>)\n",
      "('rydberg_potential_3param', <function rydberg_potential_3param at 0x148896ebcbf8>)\n"
     ]
    }
   ],
   "source": [
    "from inspect import getmembers, isfunction\n",
    "func_list= getmembers(PES_functions, isfunction)\n",
    "\n",
    "for i in func_list:\n",
    "    print(i)"
   ]
  },
  {
   "cell_type": "code",
   "execution_count": 3,
   "metadata": {},
   "outputs": [
    {
     "name": "stdout",
     "output_type": "stream",
     "text": [
      "33\n"
     ]
    }
   ],
   "source": [
    "N2_ref = np.loadtxt('N2_ref_data/N2_ref_J4_v3.txt')\n",
    "print(N2_ref.size)"
   ]
  },
  {
   "cell_type": "markdown",
   "metadata": {},
   "source": [
    "### generating a PES function "
   ]
  },
  {
   "cell_type": "code",
   "execution_count": 7,
   "metadata": {},
   "outputs": [
    {
     "data": {
      "image/png": "[encoded data removed]",
      "text/plain": [
       "<Figure size 432x288 with 1 Axes>"
      ]
     },
     "metadata": {
      "needs_background": "light"
     },
     "output_type": "display_data"
    }
   ],
   "source": [
    "# N2 potential parameters\n",
    "re=2.4102\n",
    "\n",
    "param_opt=np.array([0.44, 1.265, 2.055])\n",
    "\n",
    "distance_vector=np.arange(0.75, 5.25, 0.05)\n",
    "test_PES = PES_functions.morse_potential(param_opt, distance_vector )\n",
    "\n",
    "\n",
    "#plotting the test PES\n",
    "\n",
    "\n",
    "plt.plot(distance_vector, test_PES )\n",
    "plt.xlabel('Internuclear distance')\n",
    "plt.ylabel('Energy (wavenumber)')\n",
    "plt.grid()"
   ]
  },
  {
   "cell_type": "markdown",
   "metadata": {},
   "source": [
    "---\n",
    "\n",
    "### Getting rovibrational energies of N2"
   ]
  },
  {
   "cell_type": "code",
   "execution_count": 8,
   "metadata": {},
   "outputs": [],
   "source": [
    "e = diatomicSE.get_eigenvalue_J( 7, 14, 7, 14, distance_vector , test_PES , 5, 0.025 , 0 )"
   ]
  },
  {
   "cell_type": "code",
   "execution_count": 9,
   "metadata": {},
   "outputs": [
    {
     "name": "stdout",
     "output_type": "stream",
     "text": [
      "(175, 1)\n"
     ]
    }
   ],
   "source": [
    "print(e.shape)"
   ]
  },
  {
   "cell_type": "markdown",
   "metadata": {},
   "source": [
    "### This function calculates the diff"
   ]
  },
  {
   "cell_type": "code",
   "execution_count": 10,
   "metadata": {},
   "outputs": [],
   "source": [
    "\n",
    "def residual_rovibration_3v (parameter):\n",
    "\n",
    "\n",
    "    xfit = np.arange(0.75, 5.99 , 0.05)\n",
    "    yfit = PES_functions.morse_potential(parameter,xfit)\n",
    "    step = 0.010\n",
    "    Jmax = 4\n",
    "\n",
    "\n",
    "    e = diatomicSE.get_eigenvalue_J( 7, 14, 7, 14, xfit , yfit, 5, step , 0 )\n",
    "    dat = np.zeros((e.shape[0], Jmax+1))\n",
    "    dat[:, 0]=e[:,0]\n",
    "\n",
    "    for i in range(1, Jmax+1):\n",
    "        e = diatomicSE.get_eigenvalue_J( 7, 14, 7, 14, xfit , yfit, 5, step , i )\n",
    "\n",
    "        dat[:, i]=e[:,0]\n",
    "\n",
    "\n",
    "    S_v0v0= transition.S_branch(dat, 0, 0, Jmax)\n",
    "    \n",
    "    O_v0v1= transition.O_branch(dat, 0, 1, Jmax)\n",
    "    Q_v0v1= transition.Q_branch(dat, 0, 1, Jmax)\n",
    "    S_v0v1= transition.S_branch(dat, 0, 1, Jmax)\n",
    "    \n",
    "    O_v0v2= transition.O_branch(dat, 0, 2, Jmax)\n",
    "    Q_v0v2= transition.Q_branch(dat, 0, 2, Jmax)\n",
    "    S_v0v2= transition.S_branch(dat, 0, 2, Jmax)\n",
    "\n",
    "    O_v0v3= transition.O_branch(dat, 0, 3, Jmax)\n",
    "    Q_v0v3= transition.Q_branch(dat, 0, 3, Jmax)\n",
    "    S_v0v3= transition.S_branch(dat, 0, 3, Jmax) \n",
    "\n",
    "\n",
    "    #print(S_v0v0.shape, O_v0v1.shape, Q_v0v1.shape, S_v0v1.shape )\n",
    "    \n",
    "    calc = np.hstack((S_v0v0,O_v0v1,Q_v0v1,S_v0v1,O_v0v2,Q_v0v2,S_v0v2,O_v0v3,Q_v0v3,S_v0v3))\n",
    "    #print('calc shape  = ', calc.shape)\n",
    "\n",
    "    # subtract with ref\n",
    "    ref = N2_ref\n",
    "    \n",
    "    \n",
    "    #print(calc)\n",
    "    #print(ref)\n",
    "\n",
    "    #print (calc.shape, ref.shape)\n",
    "    #print(ref,'\\n\\n', calc)\n",
    "    diff = calc - ref\n",
    "    print(np.sum(diff**2))\n",
    "\n",
    "    return np.sum(diff**2)\n",
    "\n",
    "\n",
    "######################################################\n"
   ]
  },
  {
   "cell_type": "code",
   "execution_count": 11,
   "metadata": {},
   "outputs": [
    {
     "name": "stdout",
     "output_type": "stream",
     "text": [
      "0.4912214647991154\n"
     ]
    },
    {
     "data": {
      "text/plain": [
       "0.4912214647991154"
      ]
     },
     "execution_count": 11,
     "metadata": {},
     "output_type": "execute_result"
    }
   ],
   "source": [
    "# testing the function \n",
    "param_opt=np.array([0.44320, 1.2899, 2.07375])\n",
    "residual_rovibration_3v (param_opt )\n"
   ]
  },
  {
   "cell_type": "code",
   "execution_count": null,
   "metadata": {},
   "outputs": [],
   "source": []
  },
  {
   "cell_type": "code",
   "execution_count": 12,
   "metadata": {},
   "outputs": [],
   "source": [
    "# This function is used to optimize the parameters of the PES analytical function\n",
    "\n",
    "\n",
    "#######################################################\n",
    "#   optimize function ( optimization of spline coefs)\n",
    "def run_fit(initial_guess):\n",
    "\n",
    "\n",
    "    res = opt.minimize( residual_rovibration_3v, initial_guess,\\\n",
    "                       method='Nelder-Mead', \\\n",
    "                              options={'xatol': 1e-8,\\\n",
    "                                       'fatol': 1e-8,\\\n",
    "                                           'maxiter':2500})\n",
    "\n",
    "    #print (res)\n",
    "    #opt_params = res.x\n",
    "\n",
    "    return res\n",
    "######################################################"
   ]
  },
  {
   "cell_type": "code",
   "execution_count": 13,
   "metadata": {},
   "outputs": [
    {
     "name": "stdout",
     "output_type": "stream",
     "text": [
      "0.4912214647991154\n",
      "473915.993253932\n",
      "1772888.9017457843\n",
      "78.15469645690388\n",
      "805960.5015001169\n",
      "108861.57663384643\n",
      "821796.7465278483\n",
      "84416.98876544948\n",
      "262672.19764707086\n",
      "13174.446296597722\n",
      "136555.57611623994\n",
      "16110.994093634405\n",
      "41284.21214108771\n",
      "2016.1871250490487\n",
      "19170.674497606655\n",
      "2443.6594280405243\n",
      "5996.354877069999\n",
      "310.01440394232884\n",
      "3382.7187119907476\n",
      "400.5313408920152\n",
      "1032.2281733345503\n",
      "66.0287263970505\n",
      "426.0066424920414\n",
      "75.27220729726324\n",
      "13.237396944657021\n",
      "144.89049757965662\n",
      "13.53894931141636\n",
      "116.56861014039048\n",
      "12.295962935505425\n",
      "27.695053919750794\n",
      "2.2850821556646057\n",
      "28.791257112264972\n",
      "1.7173478718991624\n",
      "20.76584701846119\n",
      "2.4194667903558336\n",
      "6.440255199167639\n",
      "0.4135341472150836\n",
      "2.9765592022480014\n",
      "0.5925833399780444\n",
      "3.5767903173516986\n",
      "0.36012475598437405\n",
      "0.20907641501635293\n",
      "0.9368685356198458\n",
      "1.0600181759118659\n",
      "0.09286229250721961\n",
      "1.3441671982355143\n",
      "0.09358394604988343\n",
      "0.07823905371286857\n",
      "0.41475349216712154\n",
      "0.35405307451121715\n",
      "0.05233181796119101\n",
      "0.042785681864960186\n",
      "0.2628879277520242\n",
      "0.12932597073915608\n",
      "0.017398386554749082\n",
      "0.2180417535818939\n",
      "0.009712188935364893\n",
      "0.11905143287154196\n",
      "0.010833618691381233\n",
      "0.05423891830873143\n",
      "0.009238905928979586\n",
      "0.01432505650848595\n",
      "0.0041287020254465725\n",
      "0.015741996335147643\n",
      "0.0028081605852213628\n",
      "0.02051194041730777\n",
      "0.002025497765074914\n",
      "0.02638729722276566\n",
      "0.001580973848429416\n",
      "0.0027048983342385954\n",
      "0.0031512337253350366\n",
      "0.0011657840976712556\n",
      "0.0031032254512829804\n",
      "0.0010601943487553772\n",
      "0.006425616476065745\n",
      "0.000667768286046523\n",
      "0.0021256568555124743\n",
      "0.0008647776657277499\n",
      "0.000873662343217776\n",
      "0.000706198840742299\n",
      "0.0010123802770941725\n",
      "0.0006048761810495628\n",
      "0.0012325083033844029\n",
      "0.000583342016820695\n",
      "0.0007521281344844566\n",
      "0.0005677585819423043\n",
      "0.0009996822562754171\n",
      "0.0005405468635934255\n",
      "0.0006108324550879457\n",
      "0.0005498625923489626\n",
      "0.0006324309526943597\n",
      "0.0005408695554029845\n",
      "0.0005602326559737318\n",
      "0.0005364911451951394\n",
      "0.0005489435149749406\n",
      "0.0005335228668892092\n",
      "0.0005607225549685925\n",
      "0.0005302048419921269\n",
      "0.0005623685940380231\n",
      "0.0005302673454728374\n",
      "0.0005417432690376839\n",
      "0.0005305882716141376\n",
      "0.0005302169621503658\n",
      "0.0005284474993827782\n",
      "0.000531512891828938\n",
      "0.0005395859456926444\n",
      "0.0005279542252981833\n",
      "0.0005305942846483881\n",
      "0.0005286231920298612\n",
      "0.0005287356986376032\n",
      "0.0005279129668378425\n",
      "0.0005297247159920443\n",
      "0.0005279227566297745\n",
      "0.0005279420385506255\n",
      "0.0005279107193327551\n",
      "0.0005286571073893436\n",
      "0.0005291494021506583\n",
      "0.0005276775911202329\n",
      "0.0005279595732930456\n",
      "0.0005277643436486612\n",
      "0.0005280810709987263\n",
      "0.000527749318845074\n",
      "0.000527772116712199\n",
      "0.0005276930119654299\n",
      "0.0005277166684200967\n",
      "0.0005278380034587154\n",
      "0.000527682729173077\n",
      "0.0005277301334322616\n",
      "0.0005276798691558419\n",
      "0.0005276760326110077\n",
      "0.0005277211900821854\n",
      "0.0005277188906070664\n",
      "0.0005276672031154515\n",
      "0.0005276828194549371\n",
      "0.0005276688864177763\n",
      "0.0005276980106445478\n",
      "0.0005276671904707812\n",
      "0.0005276773805118263\n",
      "0.0005276679668782626\n",
      "0.000527665420172218\n",
      "0.0005276700082143003\n",
      "0.0005276653872794132\n",
      "0.0005276712621851713\n",
      "0.000527672694502597\n",
      "0.00052766448049817\n",
      "0.0005276688192331558\n",
      "0.0005276647908607036\n",
      "0.000527667303764389\n",
      "0.0005276643396688405\n",
      "0.0005276662036032844\n",
      "0.0005276644280230496\n",
      "0.0005276652186505226\n",
      "0.0005276641898475216\n",
      "0.0005276651732135157\n",
      "0.0005276641436206351\n",
      "0.000527664616328844\n",
      "0.0005276642457604377\n",
      "0.0005276643646957651\n",
      "0.000527664141765325\n",
      "0.0005276642542014412\n",
      "0.0005276641653533498\n",
      "0.0005276641874045519\n",
      "0.0005276640874987913\n",
      "0.0005276642009392202\n",
      "0.0005276641509015846\n",
      "0.0005276642069712669\n",
      "0.0005276641531845329\n",
      "0.0005276641339225838\n",
      "0.0005276641225904013\n",
      "0.0005276641416330212\n",
      "0.0005276641819505637\n",
      "0.0005276641913326548\n",
      "0.000527664211750556\n",
      "0.0005276641830141211\n",
      "0.0005276640991193266\n",
      "0.0005276641458828075\n",
      "0.0005276641261093945\n"
     ]
    }
   ],
   "source": [
    "# running optimization\n",
    "\n",
    "result = run_fit( param_opt )"
   ]
  },
  {
   "cell_type": "code",
   "execution_count": 14,
   "metadata": {},
   "outputs": [
    {
     "name": "stdout",
     "output_type": "stream",
     "text": [
      " final_simplex: (array([[0.44320254, 1.28993001, 2.07375154],\n",
      "       [0.44320254, 1.28993   , 2.07375153],\n",
      "       [0.44320254, 1.28993001, 2.07375153],\n",
      "       [0.44320254, 1.28993   , 2.07375153]]), array([0.00052766, 0.00052766, 0.00052766, 0.00052766]))\n",
      "           fun: 0.0005276640874987913\n",
      "       message: 'Optimization terminated successfully.'\n",
      "          nfev: 177\n",
      "           nit: 89\n",
      "        status: 0\n",
      "       success: True\n",
      "             x: array([0.44320254, 1.28993001, 2.07375154])\n"
     ]
    }
   ],
   "source": [
    "# result of optimization procedue\n",
    "\n",
    "print(result)"
   ]
  },
  {
   "cell_type": "code",
   "execution_count": 15,
   "metadata": {},
   "outputs": [
    {
     "name": "stdout",
     "output_type": "stream",
     "text": [
      "[0.44320254 1.28993001 2.07375154]\n"
     ]
    }
   ],
   "source": [
    "print(result.x)"
   ]
  },
  {
   "cell_type": "code",
   "execution_count": 16,
   "metadata": {},
   "outputs": [],
   "source": [
    "# \n",
    "opt_PES =   PES_functions.morse_potential( result.x , distance_vector )"
   ]
  },
  {
   "cell_type": "code",
   "execution_count": 28,
   "metadata": {},
   "outputs": [
    {
     "data": {
      "image/png": "[encoded data removed]",
      "text/plain": [
       "<Figure size 432x288 with 1 Axes>"
      ]
     },
     "metadata": {
      "needs_background": "light"
     },
     "output_type": "display_data"
    }
   ],
   "source": [
    "plt.plot(distance_vector, test_PES, 'b', distance_vector, opt_PES , 'r' )\n",
    "plt.xlabel('Internuclear distance')\n",
    "plt.ylabel('Energy (wavenumber)')\n",
    "\n",
    "plt.grid()"
   ]
  },
  {
   "cell_type": "code",
   "execution_count": 31,
   "metadata": {},
   "outputs": [
    {
     "data": {
      "image/png": "[encoded data removed]",
      "text/plain": [
       "<Figure size 432x288 with 1 Axes>"
      ]
     },
     "metadata": {
      "needs_background": "light"
     },
     "output_type": "display_data"
    }
   ],
   "source": [
    "plt.plot(distance_vector, test_PES, 'b', distance_vector, opt_PES , 'r' )\n",
    "plt.xlabel('Internuclear distance')\n",
    "plt.ylabel('Energy (wavenumber)')\n",
    "plt.xlim([1,3])\n",
    "plt.ylim([-0.05 ,4.2])\n",
    "plt.grid()"
   ]
  },
  {
   "cell_type": "code",
   "execution_count": 23,
   "metadata": {},
   "outputs": [],
   "source": [
    "solution = diatomicSE.get_fullsolution_J( 7, 14, 7, 14, distance_vector , opt_PES , 5, 0.025 , 0 ) \n",
    "# solution is a tuple"
   ]
  },
  {
   "cell_type": "code",
   "execution_count": 24,
   "metadata": {},
   "outputs": [
    {
     "name": "stdout",
     "output_type": "stream",
     "text": [
      "3\n",
      "(175,)\n",
      "[0.8   0.825 0.85  0.875 0.9   0.925 0.95  0.975 1.    1.025 1.05  1.075\n",
      " 1.1   1.125 1.15  1.175 1.2   1.225 1.25  1.275 1.3   1.325 1.35  1.375\n",
      " 1.4   1.425 1.45  1.475 1.5   1.525 1.55  1.575 1.6   1.625 1.65  1.675\n",
      " 1.7   1.725 1.75  1.775 1.8   1.825 1.85  1.875 1.9   1.925 1.95  1.975\n",
      " 2.    2.025 2.05  2.075 2.1   2.125 2.15  2.175 2.2   2.225 2.25  2.275\n",
      " 2.3   2.325 2.35  2.375 2.4   2.425 2.45  2.475 2.5   2.525 2.55  2.575\n",
      " 2.6   2.625 2.65  2.675 2.7   2.725 2.75  2.775 2.8   2.825 2.85  2.875\n",
      " 2.9   2.925 2.95  2.975 3.    3.025 3.05  3.075 3.1   3.125 3.15  3.175\n",
      " 3.2   3.225 3.25  3.275 3.3   3.325 3.35  3.375 3.4   3.425 3.45  3.475\n",
      " 3.5   3.525 3.55  3.575 3.6   3.625 3.65  3.675 3.7   3.725 3.75  3.775\n",
      " 3.8   3.825 3.85  3.875 3.9   3.925 3.95  3.975 4.    4.025 4.05  4.075\n",
      " 4.1   4.125 4.15  4.175 4.2   4.225 4.25  4.275 4.3   4.325 4.35  4.375\n",
      " 4.4   4.425 4.45  4.475 4.5   4.525 4.55  4.575 4.6   4.625 4.65  4.675\n",
      " 4.7   4.725 4.75  4.775 4.8   4.825 4.85  4.875 4.9   4.925 4.95  4.975\n",
      " 5.    5.025 5.05  5.075 5.1   5.125 5.15 ]\n"
     ]
    }
   ],
   "source": [
    "print(len(solution))\n",
    "\n",
    "\n",
    "print(solution[0].shape)\n",
    "print(solution[0])\n",
    "# this corresponds to the internuclear distance"
   ]
  },
  {
   "cell_type": "code",
   "execution_count": 25,
   "metadata": {},
   "outputs": [
    {
     "name": "stdout",
     "output_type": "stream",
     "text": [
      "(175, 1)\n",
      "[[1.22612337e+03]\n",
      " [3.55522273e+03]\n",
      " [5.85383038e+03]\n",
      " [8.12090375e+03]\n",
      " [1.03555673e+04]\n",
      " [1.25570915e+04]\n",
      " [1.47248770e+04]\n",
      " [1.68584387e+04]\n",
      " [1.89573494e+04]\n",
      " [2.10214115e+04]\n",
      " [2.30506207e+04]\n",
      " [2.50432931e+04]\n",
      " [2.70010688e+04]\n",
      " [2.89293821e+04]\n",
      " [3.08117999e+04]\n",
      " [3.26533054e+04]\n",
      " [3.44888537e+04]\n",
      " [3.62753017e+04]\n",
      " [3.80042976e+04]\n",
      " [3.97137896e+04]\n",
      " [4.13920165e+04]\n",
      " [4.30471172e+04]\n",
      " [4.46608325e+04]\n",
      " [4.62348898e+04]\n",
      " [4.77693783e+04]\n",
      " [4.92700961e+04]\n",
      " [5.07419232e+04]\n",
      " [5.21850803e+04]\n",
      " [5.35994005e+04]\n",
      " [5.49816875e+04]\n",
      " [5.63307943e+04]\n",
      " [5.76452584e+04]\n",
      " [5.89252219e+04]\n",
      " [6.01716178e+04]\n",
      " [6.13853236e+04]\n",
      " [6.25680399e+04]\n",
      " [6.37200399e+04]\n",
      " [6.48422012e+04]\n",
      " [6.59337625e+04]\n",
      " [6.69938901e+04]\n",
      " [6.80211378e+04]\n",
      " [6.90161079e+04]\n",
      " [6.99829176e+04]\n",
      " [7.09052403e+04]\n",
      " [7.17295013e+04]\n",
      " [7.25162485e+04]\n",
      " [7.34256028e+04]\n",
      " [7.43940452e+04]\n",
      " [7.46289794e+04]\n",
      " [7.54711829e+04]\n",
      " [7.65028898e+04]\n",
      " [7.75334500e+04]\n",
      " [7.85525799e+04]\n",
      " [7.88423375e+04]\n",
      " [7.95543525e+04]\n",
      " [8.05382674e+04]\n",
      " [8.14997774e+04]\n",
      " [8.24370468e+04]\n",
      " [8.33507892e+04]\n",
      " [8.42381397e+04]\n",
      " [8.43534674e+04]\n",
      " [8.50976698e+04]\n",
      " [8.59305236e+04]\n",
      " [8.67356079e+04]\n",
      " [8.75111082e+04]\n",
      " [8.82574722e+04]\n",
      " [8.89753294e+04]\n",
      " [8.96637135e+04]\n",
      " [9.03217181e+04]\n",
      " [9.09496869e+04]\n",
      " [9.10465558e+04]\n",
      " [9.15481959e+04]\n",
      " [9.21172992e+04]\n",
      " [9.26587260e+04]\n",
      " [9.31832643e+04]\n",
      " [9.37159105e+04]\n",
      " [9.42806062e+04]\n",
      " [9.48851937e+04]\n",
      " [9.55270909e+04]\n",
      " [9.62019595e+04]\n",
      " [9.69073253e+04]\n",
      " [9.76415266e+04]\n",
      " [9.84015268e+04]\n",
      " [9.86794381e+04]\n",
      " [9.91850436e+04]\n",
      " [9.99925191e+04]\n",
      " [1.00822745e+05]\n",
      " [1.01672831e+05]\n",
      " [1.02543814e+05]\n",
      " [1.03435333e+05]\n",
      " [1.04344213e+05]\n",
      " [1.05272555e+05]\n",
      " [1.06218770e+05]\n",
      " [1.07180978e+05]\n",
      " [1.07316820e+05]\n",
      " [1.08161762e+05]\n",
      " [1.09156901e+05]\n",
      " [1.10169332e+05]\n",
      " [1.11195981e+05]\n",
      " [1.12238195e+05]\n",
      " [1.13294277e+05]\n",
      " [1.14364932e+05]\n",
      " [1.15448242e+05]\n",
      " [1.16545995e+05]\n",
      " [1.17266189e+05]\n",
      " [1.17654742e+05]\n",
      " [1.18777329e+05]\n",
      " [1.19911101e+05]\n",
      " [1.21055615e+05]\n",
      " [1.22212051e+05]\n",
      " [1.23379123e+05]\n",
      " [1.24555879e+05]\n",
      " [1.25742166e+05]\n",
      " [1.26937722e+05]\n",
      " [1.28096845e+05]\n",
      " [1.28142092e+05]\n",
      " [1.29354786e+05]\n",
      " [1.30575327e+05]\n",
      " [1.31803246e+05]\n",
      " [1.33038069e+05]\n",
      " [1.34279321e+05]\n",
      " [1.35526523e+05]\n",
      " [1.36779192e+05]\n",
      " [1.38036846e+05]\n",
      " [1.39298999e+05]\n",
      " [1.40357548e+05]\n",
      " [1.40565169e+05]\n",
      " [1.41834878e+05]\n",
      " [1.43107657e+05]\n",
      " [1.44383046e+05]\n",
      " [1.45660607e+05]\n",
      " [1.46939929e+05]\n",
      " [1.48220638e+05]\n",
      " [1.49502418e+05]\n",
      " [1.50785030e+05]\n",
      " [1.52068343e+05]\n",
      " [1.53352390e+05]\n",
      " [1.53893173e+05]\n",
      " [1.54637434e+05]\n",
      " [1.55924087e+05]\n",
      " [1.57213501e+05]\n",
      " [1.58507697e+05]\n",
      " [1.59810181e+05]\n",
      " [1.61127196e+05]\n",
      " [1.62470667e+05]\n",
      " [1.63866654e+05]\n",
      " [1.65391334e+05]\n",
      " [1.68636503e+05]\n",
      " [1.85269991e+05]\n",
      " [2.02941089e+05]\n",
      " [2.22988084e+05]\n",
      " [2.44191704e+05]\n",
      " [2.68007291e+05]\n",
      " [2.93421660e+05]\n",
      " [3.21464380e+05]\n",
      " [3.51817971e+05]\n",
      " [3.84670551e+05]\n",
      " [4.20752911e+05]\n",
      " [4.59126307e+05]\n",
      " [5.01810447e+05]\n",
      " [5.46546250e+05]\n",
      " [5.96813195e+05]\n",
      " [6.48889855e+05]\n",
      " [7.07852931e+05]\n",
      " [7.68396948e+05]\n",
      " [8.37326055e+05]\n",
      " [9.07627909e+05]\n",
      " [9.87974724e+05]\n",
      " [1.06950916e+06]\n",
      " [1.16293427e+06]\n",
      " [1.25738475e+06]\n",
      " [1.36578760e+06]\n",
      " [1.47507490e+06]\n",
      " [1.60063599e+06]\n",
      " [1.72925781e+06]]\n"
     ]
    }
   ],
   "source": [
    "print(solution[1].shape)\n",
    "print(solution[1])\n",
    "# this corresponds to the energies in Hartree"
   ]
  },
  {
   "cell_type": "code",
   "execution_count": 26,
   "metadata": {},
   "outputs": [
    {
     "name": "stdout",
     "output_type": "stream",
     "text": [
      "(175, 175)\n",
      "[[-2.91257759e-046  2.91411588e-046 -7.70334179e-046 ... -6.50532898e-003\n",
      "   1.48370646e-001 -9.90195150e-001]\n",
      " [ 2.50029422e-045  2.98696690e-045 -3.00069423e-044 ... -1.49310515e-001\n",
      "   9.78944706e-001  1.38983531e-001]\n",
      " [ 3.36594613e-043 -2.64842748e-043  3.38530770e-043 ... -9.75453484e-001\n",
      "  -1.39361092e-001 -1.39971461e-002]\n",
      " ...\n",
      " [ 2.01416369e-058  4.85180150e-057 -8.25590382e-056 ... -1.04330306e-242\n",
      "  -4.17896499e-248 -3.18140498e-253]\n",
      " [-1.61760913e-058 -2.48931940e-057  5.25408298e-056 ...  3.81803712e-244\n",
      "   1.44818169e-249  1.04783440e-254]\n",
      " [ 9.23797294e-059  1.00419289e-057 -2.59227691e-056 ... -1.39665112e-245\n",
      "  -5.01674894e-251 -3.45011066e-256]]\n"
     ]
    }
   ],
   "source": [
    "print(solution[2].shape)\n",
    "print(solution[2])\n",
    "# this corresponds to the matrix of wavefunctions, where  each column corresponds to\n",
    "# wavefunction for a vibrational state, starting from 0 to n across the columns, from left to right \n",
    "# These wavefunctions need normalization before using them for any further computation."
   ]
  },
  {
   "cell_type": "code",
   "execution_count": null,
   "metadata": {},
   "outputs": [],
   "source": []
  }
 ],
 "metadata": {
  "kernelspec": {
   "display_name": "Python 3",
   "language": "python",
   "name": "python3"
  },
  "language_info": {
   "codemirror_mode": {
    "name": "ipython",
    "version": 3
   },
   "file_extension": ".py",
   "mimetype": "text/x-python",
   "name": "python",
   "nbconvert_exporter": "python",
   "pygments_lexer": "ipython3",
   "version": "3.5.6"
  }
 },
 "nbformat": 4,
 "nbformat_minor": 4
}
